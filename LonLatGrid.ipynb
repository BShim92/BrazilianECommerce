{
 "cells": [
  {
   "cell_type": "code",
   "execution_count": 4,
   "metadata": {},
   "outputs": [],
   "source": [
    "import matplotlib.pyplot as plt\n",
    "# import shapely.geometry\n",
    "# import pyproj\n",
    "\n",
    "# # Set up projections\n",
    "# p_ll = pyproj.Proj(init='epsg:4326')\n",
    "# p_mt = pyproj.Proj(init='epsg:3857') # metric; same as EPSG:900913\n",
    "\n",
    "# # Create corners of rectangle to be transformed to a grid\n",
    "# nw = shapely.geometry.Point((-56.0 ,-11.0))\n",
    "# se = shapely.geometry.Point((-55.0,-10.0))\n",
    "\n",
    "# stepsize = 50 # 5 km grid step size\n",
    "\n",
    "# # Project corners to target projection\n",
    "# s = pyproj.transform(p_ll, p_mt, nw.x, nw.y) # Transform NW point to 3857\n",
    "# e = pyproj.transform(p_ll, p_mt, se.x, se.y) # .. same for SE\n",
    "\n",
    "# # Iterate over 2D area\n",
    "# gridpoints = []\n",
    "# x = s[0]\n",
    "# while x < e[0]:\n",
    "#     y = s[1]\n",
    "#     while y < e[1]:\n",
    "#         p = shapely.geometry.Point(pyproj.transform(p_mt, p_ll, x, y))\n",
    "#         gridpoints.append(p)\n",
    "#         y += stepsize\n",
    "#     x += stepsize\n",
    "\n",
    "# with open('testout.csv', 'w') as of:\n",
    "#     for p in gridpoints:\n",
    "#         of.write('{:f};{:f}\\n'.format(p.x, p.y))\n",
    "#         print(p.x, p.y)"
   ]
  },
  {
   "cell_type": "code",
   "execution_count": 8,
   "metadata": {},
   "outputs": [],
   "source": [
    "import shapely.geometry\n",
    "import pyproj\n",
    "import pandas as pd\n",
    "from mpl_toolkits.basemap import Basemap\n",
    "\n",
    "# Set up projections\n",
    "p_ll = pyproj.Proj(init='epsg:4326')\n",
    "p_mt = pyproj.Proj(init='epsg:3857') # metric; same as EPSG:900913\n",
    "\n",
    "# Create corners of rectangle to be transformed to a grid\n",
    "nw = shapely.geometry.Point((-36.0 ,-72.0))\n",
    "se = shapely.geometry.Point((9.0,-32.0))\n",
    "\n",
    "stepsize = 5000 # 5 km grid step size\n",
    "\n",
    "# Project corners to target projection\n",
    "s = pyproj.transform(p_ll, p_mt, nw.x, nw.y) # Transform NW point to 3857\n",
    "e = pyproj.transform(p_ll, p_mt, se.x, se.y) # .. same for SE\n",
    "\n",
    "# Iterate over 2D area\n",
    "gridpoints = []\n",
    "x = s[0]\n",
    "while x < e[0]:\n",
    "    y = s[1]\n",
    "    while y < e[1]:\n",
    "        p = shapely.geometry.Point(pyproj.transform(p_mt, p_ll, x, y))\n",
    "        gridpoints.append(p)\n",
    "        y += stepsize\n",
    "    x += stepsize\n",
    "\n",
    "lonlist = []\n",
    "latlist = []\n",
    "# with open('testout.csv', 'w') as of:\n",
    "#     of.write('lon;lat\\n')\n",
    "for p in gridpoints:\n",
    "    #of.write('{:f};{:f}\\n'.format(p.x, p.y))\n",
    "    #print(p.x, p.y)\n",
    "    lonlist.append(p.x)\n",
    "    latlist.append(p.y)\n",
    "    \n",
    "\n"
   ]
  },
  {
   "cell_type": "code",
   "execution_count": null,
   "metadata": {},
   "outputs": [],
   "source": []
  },
  {
   "cell_type": "code",
   "execution_count": null,
   "metadata": {},
   "outputs": [],
   "source": [
    "# import pandas as pd\n",
    "# import matplotlib.pyplot as plt\n",
    "\n",
    "# df = pd.read_csv('testout.csv')\n",
    "# df.head()\n",
    "\n",
    "# plt.scatter(df['-56'], df['-11'])"
   ]
  },
  {
   "cell_type": "code",
   "execution_count": null,
   "metadata": {},
   "outputs": [],
   "source": [
    "# df['-56'].value_counts()"
   ]
  },
  {
   "cell_type": "code",
   "execution_count": null,
   "metadata": {},
   "outputs": [],
   "source": []
  }
 ],
 "metadata": {
  "kernelspec": {
   "display_name": "Python 3",
   "language": "python",
   "name": "python3"
  },
  "language_info": {
   "codemirror_mode": {
    "name": "ipython",
    "version": 3
   },
   "file_extension": ".py",
   "mimetype": "text/x-python",
   "name": "python",
   "nbconvert_exporter": "python",
   "pygments_lexer": "ipython3",
   "version": "3.7.0"
  }
 },
 "nbformat": 4,
 "nbformat_minor": 2
}
